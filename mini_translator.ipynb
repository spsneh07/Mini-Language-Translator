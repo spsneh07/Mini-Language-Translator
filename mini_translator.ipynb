{
 "cells": [
  {
   "cell_type": "code",
   "execution_count": 1,
   "id": "72ab9f22-fc9e-4816-8d38-cd8fb33b3211",
   "metadata": {},
   "outputs": [
    {
     "name": "stdout",
     "output_type": "stream",
     "text": [
      "Requirement already satisfied: transformers in c:\\users\\snehp\\anaconda3\\lib\\site-packages (4.56.2)\n",
      "Requirement already satisfied: torch in c:\\users\\snehp\\anaconda3\\lib\\site-packages (2.8.0)\n",
      "Requirement already satisfied: filelock in c:\\users\\snehp\\anaconda3\\lib\\site-packages (from transformers) (3.17.0)\n",
      "Requirement already satisfied: huggingface-hub<1.0,>=0.34.0 in c:\\users\\snehp\\anaconda3\\lib\\site-packages (from transformers) (0.35.3)\n",
      "Requirement already satisfied: numpy>=1.17 in c:\\users\\snehp\\anaconda3\\lib\\site-packages (from transformers) (2.1.3)\n",
      "Requirement already satisfied: packaging>=20.0 in c:\\users\\snehp\\anaconda3\\lib\\site-packages (from transformers) (24.2)\n",
      "Requirement already satisfied: pyyaml>=5.1 in c:\\users\\snehp\\anaconda3\\lib\\site-packages (from transformers) (6.0.2)\n",
      "Requirement already satisfied: regex!=2019.12.17 in c:\\users\\snehp\\anaconda3\\lib\\site-packages (from transformers) (2024.11.6)\n",
      "Requirement already satisfied: requests in c:\\users\\snehp\\anaconda3\\lib\\site-packages (from transformers) (2.32.3)\n",
      "Requirement already satisfied: tokenizers<=0.23.0,>=0.22.0 in c:\\users\\snehp\\anaconda3\\lib\\site-packages (from transformers) (0.22.1)\n",
      "Requirement already satisfied: safetensors>=0.4.3 in c:\\users\\snehp\\anaconda3\\lib\\site-packages (from transformers) (0.6.2)\n",
      "Requirement already satisfied: tqdm>=4.27 in c:\\users\\snehp\\anaconda3\\lib\\site-packages (from transformers) (4.67.1)\n",
      "Requirement already satisfied: fsspec>=2023.5.0 in c:\\users\\snehp\\anaconda3\\lib\\site-packages (from huggingface-hub<1.0,>=0.34.0->transformers) (2025.3.2)\n",
      "Requirement already satisfied: typing-extensions>=3.7.4.3 in c:\\users\\snehp\\anaconda3\\lib\\site-packages (from huggingface-hub<1.0,>=0.34.0->transformers) (4.12.2)\n",
      "Requirement already satisfied: sympy>=1.13.3 in c:\\users\\snehp\\anaconda3\\lib\\site-packages (from torch) (1.13.3)\n",
      "Requirement already satisfied: networkx in c:\\users\\snehp\\anaconda3\\lib\\site-packages (from torch) (3.4.2)\n",
      "Requirement already satisfied: jinja2 in c:\\users\\snehp\\anaconda3\\lib\\site-packages (from torch) (3.1.6)\n",
      "Requirement already satisfied: setuptools in c:\\users\\snehp\\anaconda3\\lib\\site-packages (from torch) (72.1.0)\n",
      "Requirement already satisfied: mpmath<1.4,>=1.1.0 in c:\\users\\snehp\\anaconda3\\lib\\site-packages (from sympy>=1.13.3->torch) (1.3.0)\n",
      "Requirement already satisfied: colorama in c:\\users\\snehp\\anaconda3\\lib\\site-packages (from tqdm>=4.27->transformers) (0.4.6)\n",
      "Requirement already satisfied: MarkupSafe>=2.0 in c:\\users\\snehp\\anaconda3\\lib\\site-packages (from jinja2->torch) (3.0.2)\n",
      "Requirement already satisfied: charset-normalizer<4,>=2 in c:\\users\\snehp\\anaconda3\\lib\\site-packages (from requests->transformers) (3.3.2)\n",
      "Requirement already satisfied: idna<4,>=2.5 in c:\\users\\snehp\\anaconda3\\lib\\site-packages (from requests->transformers) (3.7)\n",
      "Requirement already satisfied: urllib3<3,>=1.21.1 in c:\\users\\snehp\\anaconda3\\lib\\site-packages (from requests->transformers) (2.3.0)\n",
      "Requirement already satisfied: certifi>=2017.4.17 in c:\\users\\snehp\\anaconda3\\lib\\site-packages (from requests->transformers) (2025.4.26)\n"
     ]
    }
   ],
   "source": [
    "!pip install transformers torch"
   ]
  },
  {
   "cell_type": "code",
   "execution_count": 1,
   "id": "b2230166-f48f-46b6-888f-a57bd2014cb5",
   "metadata": {},
   "outputs": [
    {
     "data": {
      "application/vnd.jupyter.widget-view+json": {
       "model_id": "98901621b96947c78c0119dd66f28aa5",
       "version_major": 2,
       "version_minor": 0
      },
      "text/plain": [
       "source.spm:   0%|          | 0.00/812k [00:00<?, ?B/s]"
      ]
     },
     "metadata": {},
     "output_type": "display_data"
    },
    {
     "name": "stderr",
     "output_type": "stream",
     "text": [
      "C:\\Users\\snehp\\anaconda3\\Lib\\site-packages\\huggingface_hub\\file_download.py:143: UserWarning: `huggingface_hub` cache-system uses symlinks by default to efficiently store duplicated files but your machine does not support them in C:\\Users\\snehp\\.cache\\huggingface\\hub\\models--Helsinki-NLP--opus-mt-en-hi. Caching files will still work but in a degraded version that might require more space on your disk. This warning can be disabled by setting the `HF_HUB_DISABLE_SYMLINKS_WARNING` environment variable. For more details, see https://huggingface.co/docs/huggingface_hub/how-to-cache#limitations.\n",
      "To support symlinks on Windows, you either need to activate Developer Mode or to run Python as an administrator. In order to activate developer mode, see this article: https://docs.microsoft.com/en-us/windows/apps/get-started/enable-your-device-for-development\n",
      "  warnings.warn(message)\n"
     ]
    },
    {
     "data": {
      "application/vnd.jupyter.widget-view+json": {
       "model_id": "f62fa93e19bb4ed18987b7c535c9ef84",
       "version_major": 2,
       "version_minor": 0
      },
      "text/plain": [
       "target.spm:   0%|          | 0.00/1.07M [00:00<?, ?B/s]"
      ]
     },
     "metadata": {},
     "output_type": "display_data"
    },
    {
     "data": {
      "application/vnd.jupyter.widget-view+json": {
       "model_id": "4499b6b389b74aafa9768e9d651585fb",
       "version_major": 2,
       "version_minor": 0
      },
      "text/plain": [
       "vocab.json: 0.00B [00:00, ?B/s]"
      ]
     },
     "metadata": {},
     "output_type": "display_data"
    },
    {
     "name": "stderr",
     "output_type": "stream",
     "text": [
      "C:\\Users\\snehp\\anaconda3\\Lib\\site-packages\\transformers\\models\\marian\\tokenization_marian.py:175: UserWarning: Recommended: pip install sacremoses.\n",
      "  warnings.warn(\"Recommended: pip install sacremoses.\")\n",
      "Device set to use cpu\n"
     ]
    },
    {
     "name": "stdout",
     "output_type": "stream",
     "text": [
      "English: Hello, how are you doing today?\n",
      "Hindi: हैलो, आप आज कैसे कर रहे हैं?\n"
     ]
    }
   ],
   "source": [
    "from transformers import pipeline\n",
    "\n",
    "# 1. Create a translation pipeline\n",
    "# This will automatically download and cache the model for you the first time you run it.\n",
    "translator = pipeline(\"translation\", model=\"Helsinki-NLP/opus-mt-en-hi\")\n",
    "\n",
    "# 2. Define the text you want to translate\n",
    "english_text = \"Hello, how are you doing today?\"\n",
    "\n",
    "# 3. Use the translator to get the result\n",
    "translated_text = translator(english_text)\n",
    "\n",
    "# 4. Print the final translation\n",
    "print(f\"English: {english_text}\")\n",
    "print(f\"Hindi: {translated_text[0]['translation_text']}\")"
   ]
  },
  {
   "cell_type": "code",
   "execution_count": 3,
   "id": "b323dbe9-b060-4766-983f-2239be835f74",
   "metadata": {},
   "outputs": [
    {
     "name": "stdout",
     "output_type": "stream",
     "text": [
      "Collecting sentencepiece\n",
      "  Downloading sentencepiece-0.2.1-cp313-cp313-win_amd64.whl.metadata (10 kB)\n",
      "Downloading sentencepiece-0.2.1-cp313-cp313-win_amd64.whl (1.1 MB)\n",
      "   ---------------------------------------- 0.0/1.1 MB ? eta -:--:--\n",
      "   ---------------------------------------- 0.0/1.1 MB ? eta -:--:--\n",
      "   --------- ------------------------------ 0.3/1.1 MB ? eta -:--:--\n",
      "   ----------------------------- ---------- 0.8/1.1 MB 3.0 MB/s eta 0:00:01\n",
      "   ---------------------------------------- 1.1/1.1 MB 2.1 MB/s eta 0:00:00\n",
      "Installing collected packages: sentencepiece\n",
      "Successfully installed sentencepiece-0.2.1\n"
     ]
    }
   ],
   "source": [
    "!pip install sentencepiece"
   ]
  },
  {
   "cell_type": "code",
   "execution_count": 2,
   "id": "a435e3e0-2ab0-4471-b264-51e3c69febf7",
   "metadata": {},
   "outputs": [
    {
     "name": "stderr",
     "output_type": "stream",
     "text": [
      "Device set to use cpu\n"
     ]
    },
    {
     "name": "stdout",
     "output_type": "stream",
     "text": [
      "--- English to Hindi Translation Examples ---\n",
      "English: Hello, how are you doing today?\n",
      "Hindi: हैलो, आप आज कैसे कर रहे हैं?\n",
      "--------------------\n",
      "English: This is a machine learning project.\n",
      "Hindi: यह एक मशीन है जो सीख रही है.\n",
      "--------------------\n",
      "English: I live in the city of Pune.\n",
      "Hindi: मैं पुर्न के शहर में रहता हूँ.\n",
      "--------------------\n",
      "English: The weather is very pleasant in October.\n",
      "Hindi: मौसम अक्‍तूबर में बहुत सुखद है ।\n",
      "--------------------\n",
      "English: Can you please help me with this task?\n",
      "Hindi: क्या आप इस कार्य के साथ मेरी मदद कर सकते हैं?\n",
      "--------------------\n",
      "English: Data science is an exciting field.\n",
      "Hindi: डाटा विज्ञान एक रोमांचक क्षेत्र है।\n",
      "--------------------\n"
     ]
    }
   ],
   "source": [
    "from transformers import pipeline\n",
    "\n",
    "# Load the translator pipeline (it will load from cache, so it will be fast)\n",
    "translator = pipeline(\"translation\", model=\"Helsinki-NLP/opus-mt-en-hi\")\n",
    "\n",
    "# A list of diverse English sentences to translate\n",
    "sentences_to_translate = [\n",
    "    \"Hello, how are you doing today?\",\n",
    "    \"This is a machine learning project.\",\n",
    "    \"I live in the city of Pune.\",\n",
    "    \"The weather is very pleasant in October.\",\n",
    "    \"Can you please help me with this task?\",\n",
    "    \"Data science is an exciting field.\"\n",
    "]\n",
    "\n",
    "print(\"--- English to Hindi Translation Examples ---\")\n",
    "\n",
    "# Loop through each sentence and print the translation\n",
    "for sentence in sentences_to_translate:\n",
    "    translated = translator(sentence)\n",
    "    hindi_translation = translated[0]['translation_text']\n",
    "    print(f\"English: {sentence}\")\n",
    "    print(f\"Hindi: {hindi_translation}\")\n",
    "    print(\"-\" * 20) # Add a separator line"
   ]
  },
  {
   "cell_type": "code",
   "execution_count": 3,
   "id": "cdc8a4f8-125a-4316-ac59-778dccf5a89d",
   "metadata": {},
   "outputs": [
    {
     "name": "stderr",
     "output_type": "stream",
     "text": [
      "Device set to use cpu\n"
     ]
    },
    {
     "data": {
      "application/vnd.jupyter.widget-view+json": {
       "model_id": "8e8e251335e74cbcabece3ede2d11dd6",
       "version_major": 2,
       "version_minor": 0
      },
      "text/plain": [
       "config.json: 0.00B [00:00, ?B/s]"
      ]
     },
     "metadata": {},
     "output_type": "display_data"
    },
    {
     "name": "stderr",
     "output_type": "stream",
     "text": [
      "C:\\Users\\snehp\\anaconda3\\Lib\\site-packages\\huggingface_hub\\file_download.py:143: UserWarning: `huggingface_hub` cache-system uses symlinks by default to efficiently store duplicated files but your machine does not support them in C:\\Users\\snehp\\.cache\\huggingface\\hub\\models--Helsinki-NLP--opus-mt-en-mr. Caching files will still work but in a degraded version that might require more space on your disk. This warning can be disabled by setting the `HF_HUB_DISABLE_SYMLINKS_WARNING` environment variable. For more details, see https://huggingface.co/docs/huggingface_hub/how-to-cache#limitations.\n",
      "To support symlinks on Windows, you either need to activate Developer Mode or to run Python as an administrator. In order to activate developer mode, see this article: https://docs.microsoft.com/en-us/windows/apps/get-started/enable-your-device-for-development\n",
      "  warnings.warn(message)\n",
      "Xet Storage is enabled for this repo, but the 'hf_xet' package is not installed. Falling back to regular HTTP download. For better performance, install the package with: `pip install huggingface_hub[hf_xet]` or `pip install hf_xet`\n"
     ]
    },
    {
     "data": {
      "application/vnd.jupyter.widget-view+json": {
       "model_id": "3ae7f3fc0a5542108240b8714a82e914",
       "version_major": 2,
       "version_minor": 0
      },
      "text/plain": [
       "pytorch_model.bin:   0%|          | 0.00/305M [00:00<?, ?B/s]"
      ]
     },
     "metadata": {},
     "output_type": "display_data"
    },
    {
     "data": {
      "application/vnd.jupyter.widget-view+json": {
       "model_id": "f852e1d0d506437b881e1e950f375945",
       "version_major": 2,
       "version_minor": 0
      },
      "text/plain": [
       "generation_config.json:   0%|          | 0.00/293 [00:00<?, ?B/s]"
      ]
     },
     "metadata": {},
     "output_type": "display_data"
    },
    {
     "name": "stderr",
     "output_type": "stream",
     "text": [
      "Xet Storage is enabled for this repo, but the 'hf_xet' package is not installed. Falling back to regular HTTP download. For better performance, install the package with: `pip install huggingface_hub[hf_xet]` or `pip install hf_xet`\n"
     ]
    },
    {
     "data": {
      "application/vnd.jupyter.widget-view+json": {
       "model_id": "dbf15bc697cc4f309fa345889a6a78a0",
       "version_major": 2,
       "version_minor": 0
      },
      "text/plain": [
       "model.safetensors:   0%|          | 0.00/305M [00:00<?, ?B/s]"
      ]
     },
     "metadata": {},
     "output_type": "display_data"
    },
    {
     "data": {
      "application/vnd.jupyter.widget-view+json": {
       "model_id": "6511050ca47f44e884fb182a65f991d9",
       "version_major": 2,
       "version_minor": 0
      },
      "text/plain": [
       "tokenizer_config.json:   0%|          | 0.00/42.0 [00:00<?, ?B/s]"
      ]
     },
     "metadata": {},
     "output_type": "display_data"
    },
    {
     "data": {
      "application/vnd.jupyter.widget-view+json": {
       "model_id": "3f6fbf10dbf144a7a5817b5155909f86",
       "version_major": 2,
       "version_minor": 0
      },
      "text/plain": [
       "source.spm:   0%|          | 0.00/813k [00:00<?, ?B/s]"
      ]
     },
     "metadata": {},
     "output_type": "display_data"
    },
    {
     "data": {
      "application/vnd.jupyter.widget-view+json": {
       "model_id": "61feb8b0991342d0b29d68f1297b2ddc",
       "version_major": 2,
       "version_minor": 0
      },
      "text/plain": [
       "target.spm:   0%|          | 0.00/1.17M [00:00<?, ?B/s]"
      ]
     },
     "metadata": {},
     "output_type": "display_data"
    },
    {
     "data": {
      "application/vnd.jupyter.widget-view+json": {
       "model_id": "4396b1f380424b6e9bc2a74a2a127a98",
       "version_major": 2,
       "version_minor": 0
      },
      "text/plain": [
       "vocab.json: 0.00B [00:00, ?B/s]"
      ]
     },
     "metadata": {},
     "output_type": "display_data"
    },
    {
     "name": "stderr",
     "output_type": "stream",
     "text": [
      "Device set to use cpu\n"
     ]
    },
    {
     "name": "stdout",
     "output_type": "stream",
     "text": [
      "--- English to Hindi & Marathi Translation Examples ---\n",
      "English: Hello, how are you doing today?\n",
      "Hindi: हैलो, आप आज कैसे कर रहे हैं?\n",
      "Marathi: आज तू काय करतोयस?\n",
      "------------------------------\n",
      "English: This is a machine learning project.\n",
      "Hindi: यह एक मशीन है जो सीख रही है.\n",
      "Marathi: ही माहिती अतिशय उपयोगी आहे.\n",
      "------------------------------\n",
      "English: I live in the city of Pune.\n",
      "Hindi: मैं पुर्न के शहर में रहता हूँ.\n",
      "Marathi: मी शहरात राहतेय.\n",
      "------------------------------\n",
      "English: The weather is very pleasant in October.\n",
      "Hindi: मौसम अक्‍तूबर में बहुत सुखद है ।\n",
      "Marathi: उन्हाळ्यात भरपूर बर्फ पडतोय.\n",
      "------------------------------\n",
      "English: Data science is an exciting field.\n",
      "Hindi: डाटा विज्ञान एक रोमांचक क्षेत्र है।\n",
      "Marathi: यु. पू.\n",
      "------------------------------\n"
     ]
    }
   ],
   "source": [
    "from transformers import pipeline\n",
    "\n",
    "# 1. Create a translator pipeline for English to Hindi\n",
    "hindi_translator = pipeline(\"translation\", model=\"Helsinki-NLP/opus-mt-en-hi\")\n",
    "\n",
    "# 2. Create another translator pipeline for English to Marathi\n",
    "marathi_translator = pipeline(\"translation\", model=\"Helsinki-NLP/opus-mt-en-mr\")\n",
    "\n",
    "# A list of diverse English sentences to translate\n",
    "sentences_to_translate = [\n",
    "    \"Hello, how are you doing today?\",\n",
    "    \"This is a machine learning project.\",\n",
    "    \"I live in the city of Pune.\",\n",
    "    \"The weather is very pleasant in October.\",\n",
    "    \"Data science is an exciting field.\"\n",
    "]\n",
    "\n",
    "print(\"--- English to Hindi & Marathi Translation Examples ---\")\n",
    "\n",
    "# Loop through each sentence and print the translations\n",
    "for sentence in sentences_to_translate:\n",
    "    # Translate to Hindi\n",
    "    hindi_translated = hindi_translator(sentence)\n",
    "    hindi_text = hindi_translated[0]['translation_text']\n",
    "    \n",
    "    # Translate to Marathi\n",
    "    marathi_translated = marathi_translator(sentence)\n",
    "    marathi_text = marathi_translated[0]['translation_text']\n",
    "    \n",
    "    print(f\"English: {sentence}\")\n",
    "    print(f\"Hindi: {hindi_text}\")\n",
    "    print(f\"Marathi: {marathi_text}\")\n",
    "    print(\"-\" * 30) # Add a separator line"
   ]
  },
  {
   "cell_type": "code",
   "execution_count": null,
   "id": "e23c5876-4209-42eb-bee1-691d9d88b54f",
   "metadata": {},
   "outputs": [],
   "source": []
  }
 ],
 "metadata": {
  "kernelspec": {
   "display_name": "Python 3 (ipykernel)",
   "language": "python",
   "name": "python3"
  },
  "language_info": {
   "codemirror_mode": {
    "name": "ipython",
    "version": 3
   },
   "file_extension": ".py",
   "mimetype": "text/x-python",
   "name": "python",
   "nbconvert_exporter": "python",
   "pygments_lexer": "ipython3",
   "version": "3.13.5"
  }
 },
 "nbformat": 4,
 "nbformat_minor": 5
}
